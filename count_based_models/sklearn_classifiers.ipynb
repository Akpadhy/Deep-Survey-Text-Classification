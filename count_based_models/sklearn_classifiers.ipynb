{
 "cells": [
  {
   "cell_type": "markdown",
   "metadata": {},
   "source": [
    "# Setup"
   ]
  },
  {
   "cell_type": "code",
   "execution_count": 1,
   "metadata": {
    "ExecuteTime": {
     "end_time": "2017-09-23T22:52:27.339321Z",
     "start_time": "2017-09-23T22:52:25.655200Z"
    }
   },
   "outputs": [],
   "source": [
    "import sys\n",
    "import os\n",
    "\n",
    "import re\n",
    "import collections\n",
    "import itertools\n",
    "import bcolz\n",
    "import pickle\n",
    "sys.path.append('../../lib')\n",
    "\n",
    "import numpy as np\n",
    "import pandas as pd\n",
    "import gc\n",
    "import random\n",
    "import smart_open\n",
    "import h5py\n",
    "import csv\n",
    "import json\n",
    "import functools\n",
    "import time\n",
    "import string\n",
    "\n",
    "import datetime as dt\n",
    "from tqdm import tqdm_notebook as tqdm\n",
    "\n",
    "import numpy as np\n",
    "import pandas as pd\n",
    "\n",
    "import matplotlib.pyplot as plt\n",
    "import seaborn as sns\n",
    "\n",
    "random_state_number = 967898"
   ]
  },
  {
   "cell_type": "code",
   "execution_count": 2,
   "metadata": {
    "ExecuteTime": {
     "end_time": "2017-09-23T22:52:28.893109Z",
     "start_time": "2017-09-23T22:52:27.341108Z"
    }
   },
   "outputs": [
    {
     "data": {
      "text/plain": [
       "['/gpu:0', '/gpu:1']"
      ]
     },
     "execution_count": 2,
     "metadata": {},
     "output_type": "execute_result"
    }
   ],
   "source": [
    "import tensorflow as tf\n",
    "from tensorflow.python.client import device_lib\n",
    "def get_available_gpus():\n",
    "    local_device_protos = device_lib.list_local_devices()\n",
    "    return [x.name for x in local_device_protos if x.device_type == 'GPU']\n",
    "\n",
    "config = tf.ConfigProto()\n",
    "config.gpu_options.allow_growth=True\n",
    "sess = tf.Session(config=config)\n",
    "get_available_gpus()"
   ]
  },
  {
   "cell_type": "code",
   "execution_count": 3,
   "metadata": {
    "ExecuteTime": {
     "end_time": "2017-09-23T22:52:29.028370Z",
     "start_time": "2017-09-23T22:52:28.895656Z"
    }
   },
   "outputs": [
    {
     "name": "stdout",
     "output_type": "stream",
     "text": [
      "Using matplotlib backend: TkAgg\n",
      "Populating the interactive namespace from numpy and matplotlib\n"
     ]
    },
    {
     "name": "stderr",
     "output_type": "stream",
     "text": [
      "/home/bicepjai/Programs/anaconda3/envs/dsotc-c3/lib/python3.6/site-packages/IPython/core/magics/pylab.py:160: UserWarning: pylab import has clobbered these variables: ['random']\n",
      "`%matplotlib` prevents importing * from pylab and numpy\n",
      "  \"\\n`%matplotlib` prevents importing * from pylab and numpy\"\n"
     ]
    }
   ],
   "source": [
    "%pylab\n",
    "%matplotlib inline\n",
    "%load_ext line_profiler\n",
    "%load_ext memory_profiler\n",
    "%load_ext autoreload"
   ]
  },
  {
   "cell_type": "code",
   "execution_count": 4,
   "metadata": {
    "ExecuteTime": {
     "end_time": "2017-09-23T22:52:29.034281Z",
     "start_time": "2017-09-23T22:52:29.030305Z"
    }
   },
   "outputs": [],
   "source": [
    "pd.options.mode.chained_assignment = None\n",
    "pd.options.display.max_columns = 999\n",
    "color = sns.color_palette()"
   ]
  },
  {
   "cell_type": "markdown",
   "metadata": {},
   "source": [
    "# Data"
   ]
  },
  {
   "cell_type": "code",
   "execution_count": 5,
   "metadata": {
    "ExecuteTime": {
     "end_time": "2017-09-23T22:52:49.345484Z",
     "start_time": "2017-09-23T22:52:29.035994Z"
    }
   },
   "outputs": [],
   "source": [
    "store = pd.HDFStore('../data_prep/processed/stage1/data_frames.h5')\n",
    "train_df = store['train_df']\n",
    "test_df = store['test_df']"
   ]
  },
  {
   "cell_type": "code",
   "execution_count": 6,
   "metadata": {
    "ExecuteTime": {
     "end_time": "2017-09-23T22:52:49.711934Z",
     "start_time": "2017-09-23T22:52:49.346770Z"
    }
   },
   "outputs": [
    {
     "data": {
      "text/html": [
       "<div>\n",
       "<style>\n",
       "    .dataframe thead tr:only-child th {\n",
       "        text-align: right;\n",
       "    }\n",
       "\n",
       "    .dataframe thead th {\n",
       "        text-align: left;\n",
       "    }\n",
       "\n",
       "    .dataframe tbody tr th {\n",
       "        vertical-align: top;\n",
       "    }\n",
       "</style>\n",
       "<table border=\"1\" class=\"dataframe\">\n",
       "  <thead>\n",
       "    <tr style=\"text-align: right;\">\n",
       "      <th></th>\n",
       "      <th>ID</th>\n",
       "      <th>Gene</th>\n",
       "      <th>Variation</th>\n",
       "      <th>Class</th>\n",
       "      <th>Sentences</th>\n",
       "    </tr>\n",
       "  </thead>\n",
       "  <tbody>\n",
       "    <tr>\n",
       "      <th>0</th>\n",
       "      <td>0</td>\n",
       "      <td>[fam58a]</td>\n",
       "      <td>[truncating, mutations]</td>\n",
       "      <td>1</td>\n",
       "      <td>[[cyclin-dependent, kinases, , cdks, , regulat...</td>\n",
       "    </tr>\n",
       "    <tr>\n",
       "      <th>1</th>\n",
       "      <td>1</td>\n",
       "      <td>[cbl]</td>\n",
       "      <td>[w802*]</td>\n",
       "      <td>2</td>\n",
       "      <td>[[abstract, background, non-small, cell, lung,...</td>\n",
       "    </tr>\n",
       "    <tr>\n",
       "      <th>2</th>\n",
       "      <td>2</td>\n",
       "      <td>[cbl]</td>\n",
       "      <td>[q249e]</td>\n",
       "      <td>2</td>\n",
       "      <td>[[abstract, background, non-small, cell, lung,...</td>\n",
       "    </tr>\n",
       "    <tr>\n",
       "      <th>3</th>\n",
       "      <td>3</td>\n",
       "      <td>[cbl]</td>\n",
       "      <td>[n454d]</td>\n",
       "      <td>3</td>\n",
       "      <td>[[recent, evidence, has, demonstrated, that, a...</td>\n",
       "    </tr>\n",
       "    <tr>\n",
       "      <th>4</th>\n",
       "      <td>4</td>\n",
       "      <td>[cbl]</td>\n",
       "      <td>[l399v]</td>\n",
       "      <td>4</td>\n",
       "      <td>[[oncogenic, mutations, in, the, monomeric, ca...</td>\n",
       "    </tr>\n",
       "  </tbody>\n",
       "</table>\n",
       "</div>"
      ],
      "text/plain": [
       "   ID      Gene                Variation  Class  \\\n",
       "0   0  [fam58a]  [truncating, mutations]      1   \n",
       "1   1     [cbl]                  [w802*]      2   \n",
       "2   2     [cbl]                  [q249e]      2   \n",
       "3   3     [cbl]                  [n454d]      3   \n",
       "4   4     [cbl]                  [l399v]      4   \n",
       "\n",
       "                                           Sentences  \n",
       "0  [[cyclin-dependent, kinases, , cdks, , regulat...  \n",
       "1  [[abstract, background, non-small, cell, lung,...  \n",
       "2  [[abstract, background, non-small, cell, lung,...  \n",
       "3  [[recent, evidence, has, demonstrated, that, a...  \n",
       "4  [[oncogenic, mutations, in, the, monomeric, ca...  "
      ]
     },
     "metadata": {},
     "output_type": "display_data"
    },
    {
     "data": {
      "text/html": [
       "<div>\n",
       "<style>\n",
       "    .dataframe thead tr:only-child th {\n",
       "        text-align: right;\n",
       "    }\n",
       "\n",
       "    .dataframe thead th {\n",
       "        text-align: left;\n",
       "    }\n",
       "\n",
       "    .dataframe tbody tr th {\n",
       "        vertical-align: top;\n",
       "    }\n",
       "</style>\n",
       "<table border=\"1\" class=\"dataframe\">\n",
       "  <thead>\n",
       "    <tr style=\"text-align: right;\">\n",
       "      <th></th>\n",
       "      <th>ID</th>\n",
       "      <th>Gene</th>\n",
       "      <th>Variation</th>\n",
       "      <th>Sentences</th>\n",
       "    </tr>\n",
       "  </thead>\n",
       "  <tbody>\n",
       "    <tr>\n",
       "      <th>0</th>\n",
       "      <td>0</td>\n",
       "      <td>[acsl4]</td>\n",
       "      <td>[r570s]</td>\n",
       "      <td>[[2, this, mutation, resulted, in, a, myelopro...</td>\n",
       "    </tr>\n",
       "    <tr>\n",
       "      <th>1</th>\n",
       "      <td>1</td>\n",
       "      <td>[naglu]</td>\n",
       "      <td>[p521l]</td>\n",
       "      <td>[[abstract, the, large, tumor, suppressor, 1, ...</td>\n",
       "    </tr>\n",
       "    <tr>\n",
       "      <th>2</th>\n",
       "      <td>2</td>\n",
       "      <td>[pah]</td>\n",
       "      <td>[l333f]</td>\n",
       "      <td>[[vascular, endothelial, growth, factor, recep...</td>\n",
       "    </tr>\n",
       "    <tr>\n",
       "      <th>3</th>\n",
       "      <td>3</td>\n",
       "      <td>[ing1]</td>\n",
       "      <td>[a148d]</td>\n",
       "      <td>[[inflammatory, myofibroblastic, tumor, , imt,...</td>\n",
       "    </tr>\n",
       "    <tr>\n",
       "      <th>4</th>\n",
       "      <td>4</td>\n",
       "      <td>[tmem216]</td>\n",
       "      <td>[g77a]</td>\n",
       "      <td>[[abstract, retinoblastoma, is, a, pediatric, ...</td>\n",
       "    </tr>\n",
       "  </tbody>\n",
       "</table>\n",
       "</div>"
      ],
      "text/plain": [
       "   ID       Gene Variation                                          Sentences\n",
       "0   0    [acsl4]   [r570s]  [[2, this, mutation, resulted, in, a, myelopro...\n",
       "1   1    [naglu]   [p521l]  [[abstract, the, large, tumor, suppressor, 1, ...\n",
       "2   2      [pah]   [l333f]  [[vascular, endothelial, growth, factor, recep...\n",
       "3   3     [ing1]   [a148d]  [[inflammatory, myofibroblastic, tumor, , imt,...\n",
       "4   4  [tmem216]    [g77a]  [[abstract, retinoblastoma, is, a, pediatric, ..."
      ]
     },
     "metadata": {},
     "output_type": "display_data"
    }
   ],
   "source": [
    "display(train_df.head())\n",
    "display(test_df.head())"
   ]
  },
  {
   "cell_type": "code",
   "execution_count": 7,
   "metadata": {
    "ExecuteTime": {
     "end_time": "2017-09-23T22:52:49.827282Z",
     "start_time": "2017-09-23T22:52:49.713237Z"
    }
   },
   "outputs": [
    {
     "data": {
      "text/plain": [
       "(352220, 352220)"
      ]
     },
     "execution_count": 7,
     "metadata": {},
     "output_type": "execute_result"
    }
   ],
   "source": [
    "with open('../data_prep/processed/stage1/vocab_words_wordidx.pkl', 'rb') as f:\n",
    "    (vocab_words, vocab_wordidx) = pickle.load(f)\n",
    "vocab_size = len(vocab_words)\n",
    "vocab_size, len(vocab_wordidx)"
   ]
  },
  {
   "cell_type": "markdown",
   "metadata": {},
   "source": [
    "## Train-Test Split and Data Prep"
   ]
  },
  {
   "cell_type": "code",
   "execution_count": 8,
   "metadata": {
    "ExecuteTime": {
     "end_time": "2017-09-23T22:52:49.905279Z",
     "start_time": "2017-09-23T22:52:49.828643Z"
    }
   },
   "outputs": [],
   "source": [
    "from sklearn.model_selection import train_test_split, StratifiedShuffleSplit\n",
    "from sklearn.metrics import make_scorer, f1_score, precision_score, accuracy_score, log_loss\n",
    "f1_scorer = make_scorer(f1_score, average=\"macro\")\n",
    "precision_scorer = make_scorer(precision_score, average=\"macro\")\n",
    "accuracy_scorer = make_scorer(accuracy_score, average=\"macro\")\n",
    "log_loss_scorer = make_scorer(log_loss)\n",
    "\n",
    "from sklearn.metrics import classification_report, confusion_matrix\n",
    "from sklearn.pipeline import Pipeline\n",
    "from sklearn.model_selection import cross_val_score, GridSearchCV, RandomizedSearchCV\n",
    "\n",
    "from sklearn.feature_extraction.text import CountVectorizer\n",
    "from sklearn.feature_extraction.text import TfidfTransformer"
   ]
  },
  {
   "cell_type": "code",
   "execution_count": 9,
   "metadata": {
    "ExecuteTime": {
     "end_time": "2017-09-23T22:52:51.843893Z",
     "start_time": "2017-09-23T22:52:49.906595Z"
    }
   },
   "outputs": [
    {
     "data": {
      "text/html": [
       "<div>\n",
       "<style>\n",
       "    .dataframe thead tr:only-child th {\n",
       "        text-align: right;\n",
       "    }\n",
       "\n",
       "    .dataframe thead th {\n",
       "        text-align: left;\n",
       "    }\n",
       "\n",
       "    .dataframe tbody tr th {\n",
       "        vertical-align: top;\n",
       "    }\n",
       "</style>\n",
       "<table border=\"1\" class=\"dataframe\">\n",
       "  <thead>\n",
       "    <tr style=\"text-align: right;\">\n",
       "      <th></th>\n",
       "      <th>Text</th>\n",
       "      <th>Class</th>\n",
       "    </tr>\n",
       "  </thead>\n",
       "  <tbody>\n",
       "    <tr>\n",
       "      <th>0</th>\n",
       "      <td>[fam58a, truncating, mutations, cyclin-depende...</td>\n",
       "      <td>1</td>\n",
       "    </tr>\n",
       "    <tr>\n",
       "      <th>1</th>\n",
       "      <td>[cbl, w802*, abstract, background, non-small, ...</td>\n",
       "      <td>2</td>\n",
       "    </tr>\n",
       "    <tr>\n",
       "      <th>2</th>\n",
       "      <td>[cbl, q249e, abstract, background, non-small, ...</td>\n",
       "      <td>2</td>\n",
       "    </tr>\n",
       "    <tr>\n",
       "      <th>3</th>\n",
       "      <td>[cbl, n454d, recent, evidence, has, demonstrat...</td>\n",
       "      <td>3</td>\n",
       "    </tr>\n",
       "    <tr>\n",
       "      <th>4</th>\n",
       "      <td>[cbl, l399v, oncogenic, mutations, in, the, mo...</td>\n",
       "      <td>4</td>\n",
       "    </tr>\n",
       "  </tbody>\n",
       "</table>\n",
       "</div>"
      ],
      "text/plain": [
       "                                                Text  Class\n",
       "0  [fam58a, truncating, mutations, cyclin-depende...      1\n",
       "1  [cbl, w802*, abstract, background, non-small, ...      2\n",
       "2  [cbl, q249e, abstract, background, non-small, ...      2\n",
       "3  [cbl, n454d, recent, evidence, has, demonstrat...      3\n",
       "4  [cbl, l399v, oncogenic, mutations, in, the, mo...      4"
      ]
     },
     "metadata": {},
     "output_type": "display_data"
    }
   ],
   "source": [
    "train_df.Sentences = train_df.Sentences.apply(lambda ll: list(itertools.chain.from_iterable(ll)))\n",
    "all_text_train_df = pd.DataFrame()\n",
    "all_text_train_df[\"Text\"] = train_df.Gene + train_df.Variation + train_df.Sentences\n",
    "all_text_train_df[\"Class\"] = train_df.Class\n",
    "display(all_text_train_df.head())"
   ]
  },
  {
   "cell_type": "code",
   "execution_count": 10,
   "metadata": {
    "ExecuteTime": {
     "end_time": "2017-09-23T22:52:51.855101Z",
     "start_time": "2017-09-23T22:52:51.845187Z"
    }
   },
   "outputs": [
    {
     "name": "stdout",
     "output_type": "stream",
     "text": [
      "(2988,) (2988,)\n",
      "(333,) (333,)\n"
     ]
    }
   ],
   "source": [
    "x_train, x_test, y_train, y_test = train_test_split(all_text_train_df.Text,all_text_train_df.Class,\n",
    "                                                   test_size=0.10, random_state=random_state_number,\n",
    "                                                   stratify=all_text_train_df.Class)\n",
    "\n",
    "print(x_train.shape, y_train.shape)\n",
    "print(x_test.shape, y_test.shape)"
   ]
  },
  {
   "cell_type": "code",
   "execution_count": 11,
   "metadata": {
    "ExecuteTime": {
     "end_time": "2017-09-23T22:52:51.859012Z",
     "start_time": "2017-09-23T22:52:51.856539Z"
    }
   },
   "outputs": [],
   "source": [
    "del all_text_train_df\n",
    "del train_df\n",
    "#del test_df"
   ]
  },
  {
   "cell_type": "code",
   "execution_count": 12,
   "metadata": {
    "ExecuteTime": {
     "end_time": "2017-09-23T22:52:51.863009Z",
     "start_time": "2017-09-23T22:52:51.860551Z"
    }
   },
   "outputs": [],
   "source": [
    "cvec = CountVectorizer(vocabulary=vocab_wordidx)\n",
    "tfidf = TfidfTransformer()"
   ]
  },
  {
   "cell_type": "code",
   "execution_count": 13,
   "metadata": {
    "ExecuteTime": {
     "end_time": "2017-09-23T22:53:12.203657Z",
     "start_time": "2017-09-23T22:52:51.864309Z"
    }
   },
   "outputs": [
    {
     "name": "stdout",
     "output_type": "stream",
     "text": [
      "(2988, 352220)\n",
      "(2988, 352220)\n"
     ]
    }
   ],
   "source": [
    "x_train = x_train.str.join(\" \")\n",
    "x_train_counts = cvec.fit_transform(x_train, y_train)\n",
    "print(x_train_counts.shape)\n",
    "x_train_tf = tfidf.fit_transform(x_train_counts)\n",
    "print(x_train_tf.shape)"
   ]
  },
  {
   "cell_type": "code",
   "execution_count": 14,
   "metadata": {
    "ExecuteTime": {
     "end_time": "2017-09-23T22:53:14.669478Z",
     "start_time": "2017-09-23T22:53:12.204978Z"
    }
   },
   "outputs": [
    {
     "name": "stdout",
     "output_type": "stream",
     "text": [
      "(333, 352220)\n",
      "(333, 352220)\n"
     ]
    }
   ],
   "source": [
    "x_test = x_test.str.join(\" \")\n",
    "x_test_counts = cvec.fit_transform(x_test, y_test)\n",
    "print(x_test_counts.shape)\n",
    "x_test_tf = tfidf.fit_transform(x_test_counts)\n",
    "print(x_test_tf.shape)"
   ]
  },
  {
   "cell_type": "code",
   "execution_count": 15,
   "metadata": {
    "ExecuteTime": {
     "end_time": "2017-09-23T22:53:14.673488Z",
     "start_time": "2017-09-23T22:53:14.670740Z"
    }
   },
   "outputs": [
    {
     "data": {
      "text/plain": [
       "333"
      ]
     },
     "execution_count": 15,
     "metadata": {},
     "output_type": "execute_result"
    }
   ],
   "source": [
    "len(x_test)"
   ]
  },
  {
   "cell_type": "code",
   "execution_count": 16,
   "metadata": {
    "ExecuteTime": {
     "end_time": "2017-09-23T22:53:17.392652Z",
     "start_time": "2017-09-23T22:53:14.674715Z"
    }
   },
   "outputs": [
    {
     "data": {
      "text/plain": [
       "197"
      ]
     },
     "execution_count": 16,
     "metadata": {},
     "output_type": "execute_result"
    }
   ],
   "source": [
    "gc.collect()"
   ]
  },
  {
   "cell_type": "code",
   "execution_count": 17,
   "metadata": {
    "ExecuteTime": {
     "end_time": "2017-09-23T22:53:17.427346Z",
     "start_time": "2017-09-23T22:53:17.395141Z"
    }
   },
   "outputs": [],
   "source": [
    "def evaluate_model(model, sparse=True, predict_proba=True):\n",
    "    if sparse:\n",
    "        x_train_loc = x_train_tf\n",
    "        y_train_loc = y_train\n",
    "        x_test_loc  = x_test_tf\n",
    "        y_test_loc  = y_test\n",
    "    else:\n",
    "        x_train_loc = x_train_tf.toarray()\n",
    "        y_train_loc = y_train.values\n",
    "        x_test_loc  = x_test_tf.toarray()\n",
    "        y_test_loc  = y_test.values\n",
    "        \n",
    "    model.fit(x_train_loc, y_train_loc)        \n",
    "    if predict_proba and 'predict_proba' in dir(model):\n",
    "        predicted_prob = model.predict_proba(x_test_loc)\n",
    "        print(\"log_loss\\n\", log_loss(y_test_loc, predicted_prob, labels=range(1,10)))\n",
    "        \n",
    "    y_pred = model.predict(x_test_loc)\n",
    "    print(\"f1_score\\n\", f1_score(y_test_loc, y_pred, average=\"macro\"))\n",
    "    print(\"accuracy_score\\n\", accuracy_score(y_test_loc, y_pred))\n",
    "    print(\"\\nclassification_report\\n\",classification_report(y_test_loc, y_pred))\n",
    "    print(\"\\nconfusion_matrix\\n\",confusion_matrix(y_test_loc, y_pred))"
   ]
  },
  {
   "cell_type": "markdown",
   "metadata": {},
   "source": [
    "# Models"
   ]
  },
  {
   "cell_type": "markdown",
   "metadata": {},
   "source": [
    "did not run GaussianProcessClassifier, GaussianMixture since they took more than 64G of ram"
   ]
  },
  {
   "cell_type": "markdown",
   "metadata": {
    "ExecuteTime": {
     "end_time": "2017-08-11T06:44:14.219373Z",
     "start_time": "2017-08-11T06:44:14.216548Z"
    }
   },
   "source": [
    "## Multinomial NB"
   ]
  },
  {
   "cell_type": "code",
   "execution_count": 18,
   "metadata": {
    "ExecuteTime": {
     "end_time": "2017-09-23T22:53:17.433982Z",
     "start_time": "2017-09-23T22:53:17.429421Z"
    }
   },
   "outputs": [],
   "source": [
    "from sklearn.naive_bayes import MultinomialNB\n",
    "nb_model = MultinomialNB(alpha=0.001)"
   ]
  },
  {
   "cell_type": "code",
   "execution_count": 19,
   "metadata": {
    "ExecuteTime": {
     "end_time": "2017-09-23T22:53:17.677288Z",
     "start_time": "2017-09-23T22:53:17.435703Z"
    }
   },
   "outputs": [
    {
     "name": "stdout",
     "output_type": "stream",
     "text": [
      "log_loss\n",
      " 1.7626723557\n",
      "f1_score\n",
      " 0.581177607313\n",
      "accuracy_score\n",
      " 0.663663663664\n",
      "\n",
      "classification_report\n",
      "              precision    recall  f1-score   support\n",
      "\n",
      "          1       0.61      0.58      0.59        57\n",
      "          2       0.64      0.64      0.64        45\n",
      "          3       0.45      0.56      0.50         9\n",
      "          4       0.63      0.59      0.61        69\n",
      "          5       0.50      0.62      0.56        24\n",
      "          6       0.84      0.57      0.68        28\n",
      "          7       0.75      0.83      0.79        95\n",
      "          8       0.00      0.00      0.00         2\n",
      "          9       1.00      0.75      0.86         4\n",
      "\n",
      "avg / total       0.67      0.66      0.66       333\n",
      "\n",
      "\n",
      "confusion_matrix\n",
      " [[33  0  2 17  4  0  1  0  0]\n",
      " [ 0 29  0  1  1  0 14  0  0]\n",
      " [ 0  0  5  1  1  0  2  0  0]\n",
      " [16  0  1 41  6  2  3  0  0]\n",
      " [ 1  1  0  3 15  1  3  0  0]\n",
      " [ 3  4  0  1  2 16  2  0  0]\n",
      " [ 1 10  3  1  1  0 79  0  0]\n",
      " [ 0  1  0  0  0  0  1  0  0]\n",
      " [ 0  0  0  0  0  0  1  0  3]]\n"
     ]
    },
    {
     "name": "stderr",
     "output_type": "stream",
     "text": [
      "/home/bicepjai/Programs/anaconda3/envs/dsotc-c3/lib/python3.6/site-packages/sklearn/metrics/classification.py:1135: UndefinedMetricWarning: F-score is ill-defined and being set to 0.0 in labels with no predicted samples.\n",
      "  'precision', 'predicted', average, warn_for)\n",
      "/home/bicepjai/Programs/anaconda3/envs/dsotc-c3/lib/python3.6/site-packages/sklearn/metrics/classification.py:1135: UndefinedMetricWarning: Precision and F-score are ill-defined and being set to 0.0 in labels with no predicted samples.\n",
      "  'precision', 'predicted', average, warn_for)\n"
     ]
    }
   ],
   "source": [
    "evaluate_model(nb_model)"
   ]
  },
  {
   "cell_type": "code",
   "execution_count": 19,
   "metadata": {
    "ExecuteTime": {
     "end_time": "2017-09-22T03:32:15.945269Z",
     "start_time": "2017-09-22T03:32:15.939083Z"
    }
   },
   "outputs": [],
   "source": [
    "parameters = { 'alpha': [0.0005, 0.001,0.002,0.01,0.02]  }\n",
    "\n",
    "nb_gs = GridSearchCV(nb_model, parameters)"
   ]
  },
  {
   "cell_type": "code",
   "execution_count": null,
   "metadata": {},
   "outputs": [],
   "source": [
    "evaluate_model(nb_gs)"
   ]
  },
  {
   "cell_type": "code",
   "execution_count": null,
   "metadata": {
    "ExecuteTime": {
     "end_time": "2017-09-22T02:19:00.456327Z",
     "start_time": "2017-09-22T02:19:00.411579Z"
    }
   },
   "outputs": [],
   "source": [
    "pd.DataFrame(nb_gs.cv_results_).transpose()"
   ]
  },
  {
   "cell_type": "markdown",
   "metadata": {
    "ExecuteTime": {
     "end_time": "2017-08-18T07:03:33.414869Z",
     "start_time": "2017-08-18T07:03:33.410359Z"
    },
    "collapsed": true
   },
   "source": [
    "## Support Vector Machine"
   ]
  },
  {
   "cell_type": "code",
   "execution_count": 20,
   "metadata": {
    "ExecuteTime": {
     "end_time": "2017-09-23T22:53:17.744474Z",
     "start_time": "2017-09-23T22:53:17.678855Z"
    }
   },
   "outputs": [],
   "source": [
    "from sklearn.svm import SVC\n",
    "svc_model = SVC(probability=True)"
   ]
  },
  {
   "cell_type": "code",
   "execution_count": 21,
   "metadata": {
    "ExecuteTime": {
     "end_time": "2017-09-23T23:03:50.235747Z",
     "start_time": "2017-09-23T22:53:17.746236Z"
    }
   },
   "outputs": [
    {
     "name": "stdout",
     "output_type": "stream",
     "text": [
      "log_loss\n",
      " 1.88764903973\n",
      "f1_score\n",
      " 0.0493250259605\n",
      "accuracy_score\n",
      " 0.285285285285\n",
      "\n",
      "classification_report\n",
      "              precision    recall  f1-score   support\n",
      "\n",
      "          1       0.00      0.00      0.00        57\n",
      "          2       0.00      0.00      0.00        45\n",
      "          3       0.00      0.00      0.00         9\n",
      "          4       0.00      0.00      0.00        69\n",
      "          5       0.00      0.00      0.00        24\n",
      "          6       0.00      0.00      0.00        28\n",
      "          7       0.29      1.00      0.44        95\n",
      "          8       0.00      0.00      0.00         2\n",
      "          9       0.00      0.00      0.00         4\n",
      "\n",
      "avg / total       0.08      0.29      0.13       333\n",
      "\n",
      "\n",
      "confusion_matrix\n",
      " [[ 0  0  0  0  0  0 57  0  0]\n",
      " [ 0  0  0  0  0  0 45  0  0]\n",
      " [ 0  0  0  0  0  0  9  0  0]\n",
      " [ 0  0  0  0  0  0 69  0  0]\n",
      " [ 0  0  0  0  0  0 24  0  0]\n",
      " [ 0  0  0  0  0  0 28  0  0]\n",
      " [ 0  0  0  0  0  0 95  0  0]\n",
      " [ 0  0  0  0  0  0  2  0  0]\n",
      " [ 0  0  0  0  0  0  4  0  0]]\n"
     ]
    },
    {
     "name": "stderr",
     "output_type": "stream",
     "text": [
      "/home/bicepjai/Programs/anaconda3/envs/dsotc-c3/lib/python3.6/site-packages/sklearn/metrics/classification.py:1135: UndefinedMetricWarning: F-score is ill-defined and being set to 0.0 in labels with no predicted samples.\n",
      "  'precision', 'predicted', average, warn_for)\n",
      "/home/bicepjai/Programs/anaconda3/envs/dsotc-c3/lib/python3.6/site-packages/sklearn/metrics/classification.py:1135: UndefinedMetricWarning: Precision and F-score are ill-defined and being set to 0.0 in labels with no predicted samples.\n",
      "  'precision', 'predicted', average, warn_for)\n"
     ]
    }
   ],
   "source": [
    "evaluate_model(svc_model)"
   ]
  },
  {
   "cell_type": "code",
   "execution_count": 22,
   "metadata": {
    "ExecuteTime": {
     "end_time": "2017-09-22T03:32:36.787334Z",
     "start_time": "2017-09-22T03:32:36.777726Z"
    }
   },
   "outputs": [],
   "source": [
    "parameters = {'kernel':('linear', 'rbf'), \n",
    "              'C':[1,2,3,4,5,6,7,8,9,10], \n",
    "              'gamma':[0.01,0.02,0.03,0.04,0.1,0.2],\n",
    "              'degree':[3,4,5,6]}\n",
    "\n",
    "svc_rs = RandomizedSearchCV(svc_model, parameters, n_iter=20, n_jobs=10)"
   ]
  },
  {
   "cell_type": "code",
   "execution_count": null,
   "metadata": {},
   "outputs": [],
   "source": [
    "evaluate_model(svc_rs)"
   ]
  },
  {
   "cell_type": "code",
   "execution_count": null,
   "metadata": {},
   "outputs": [],
   "source": [
    "pd.DataFrame(svc_rs.cv_results_).transpose()"
   ]
  },
  {
   "cell_type": "markdown",
   "metadata": {},
   "source": [
    "## Softmax Regression"
   ]
  },
  {
   "cell_type": "code",
   "execution_count": 22,
   "metadata": {
    "ExecuteTime": {
     "end_time": "2017-09-23T23:03:50.239741Z",
     "start_time": "2017-09-23T23:03:50.237083Z"
    }
   },
   "outputs": [],
   "source": [
    "from sklearn.linear_model import LogisticRegression\n",
    "smreg_model = LogisticRegression(multi_class=\"multinomial\", solver='lbfgs')"
   ]
  },
  {
   "cell_type": "code",
   "execution_count": 23,
   "metadata": {
    "ExecuteTime": {
     "end_time": "2017-09-23T23:04:48.070127Z",
     "start_time": "2017-09-23T23:03:50.241036Z"
    }
   },
   "outputs": [
    {
     "name": "stdout",
     "output_type": "stream",
     "text": [
      "log_loss\n",
      " 1.11772512579\n",
      "f1_score\n",
      " 0.457444634881\n",
      "accuracy_score\n",
      " 0.633633633634\n",
      "\n",
      "classification_report\n",
      "              precision    recall  f1-score   support\n",
      "\n",
      "          1       0.58      0.54      0.56        57\n",
      "          2       0.85      0.38      0.52        45\n",
      "          3       0.00      0.00      0.00         9\n",
      "          4       0.63      0.70      0.66        69\n",
      "          5       0.55      0.25      0.34        24\n",
      "          6       0.78      0.50      0.61        28\n",
      "          7       0.61      0.98      0.75        95\n",
      "          8       0.00      0.00      0.00         2\n",
      "          9       1.00      0.50      0.67         4\n",
      "\n",
      "avg / total       0.64      0.63      0.60       333\n",
      "\n",
      "\n",
      "confusion_matrix\n",
      " [[31  0  0 16  2  1  7  0  0]\n",
      " [ 0 17  0  2  0  0 26  0  0]\n",
      " [ 0  0  0  2  1  0  6  0  0]\n",
      " [11  0  0 48  2  3  5  0  0]\n",
      " [ 4  1  0  6  6  0  7  0  0]\n",
      " [ 7  1  0  1  0 14  5  0  0]\n",
      " [ 0  1  0  1  0  0 93  0  0]\n",
      " [ 0  0  0  0  0  0  2  0  0]\n",
      " [ 0  0  0  0  0  0  2  0  2]]\n"
     ]
    },
    {
     "name": "stderr",
     "output_type": "stream",
     "text": [
      "/home/bicepjai/Programs/anaconda3/envs/dsotc-c3/lib/python3.6/site-packages/sklearn/metrics/classification.py:1135: UndefinedMetricWarning: F-score is ill-defined and being set to 0.0 in labels with no predicted samples.\n",
      "  'precision', 'predicted', average, warn_for)\n",
      "/home/bicepjai/Programs/anaconda3/envs/dsotc-c3/lib/python3.6/site-packages/sklearn/metrics/classification.py:1135: UndefinedMetricWarning: Precision and F-score are ill-defined and being set to 0.0 in labels with no predicted samples.\n",
      "  'precision', 'predicted', average, warn_for)\n"
     ]
    }
   ],
   "source": [
    "evaluate_model(smreg_model)"
   ]
  },
  {
   "cell_type": "code",
   "execution_count": 25,
   "metadata": {
    "ExecuteTime": {
     "end_time": "2017-09-22T03:32:48.642023Z",
     "start_time": "2017-09-22T03:32:48.632754Z"
    }
   },
   "outputs": [],
   "source": [
    "parameters ={\n",
    "#                 'penalty' : ['l1','l2'],\n",
    "                'tol' : [1e-5, 1e-4, 1e-3],\n",
    "                'class_weight' : [None, 'balanced'],\n",
    "                'max_iter' : [100,150,200,250,300],\n",
    "#                 'solver' : ['newton-cg', 'lbfgs'], \n",
    "                'C':[1,2,3,4,5,6,7,8,9,10], \n",
    "            }\n",
    "\n",
    "smreg_rs = RandomizedSearchCV(smreg_model, parameters, n_jobs=10)"
   ]
  },
  {
   "cell_type": "code",
   "execution_count": null,
   "metadata": {},
   "outputs": [],
   "source": [
    "evaluate_model(smreg_rs)"
   ]
  },
  {
   "cell_type": "code",
   "execution_count": null,
   "metadata": {
    "ExecuteTime": {
     "end_time": "2017-09-21T04:01:48.774985Z",
     "start_time": "2017-09-21T04:01:48.679849Z"
    }
   },
   "outputs": [],
   "source": [
    "pd.DataFrame(smreg_rs.cv_results_).transpose()"
   ]
  },
  {
   "cell_type": "markdown",
   "metadata": {
    "ExecuteTime": {
     "end_time": "2017-08-18T07:17:13.871084Z",
     "start_time": "2017-08-18T07:17:13.866289Z"
    }
   },
   "source": [
    "## K Nearest Neighbour"
   ]
  },
  {
   "cell_type": "code",
   "execution_count": 24,
   "metadata": {
    "ExecuteTime": {
     "end_time": "2017-09-23T23:04:48.073557Z",
     "start_time": "2017-09-23T23:04:48.071299Z"
    }
   },
   "outputs": [],
   "source": [
    "from sklearn.neighbors import KNeighborsClassifier\n",
    "knn_model = KNeighborsClassifier(n_neighbors=3)"
   ]
  },
  {
   "cell_type": "code",
   "execution_count": 25,
   "metadata": {
    "ExecuteTime": {
     "end_time": "2017-09-23T23:04:51.245582Z",
     "start_time": "2017-09-23T23:04:48.074605Z"
    }
   },
   "outputs": [
    {
     "name": "stdout",
     "output_type": "stream",
     "text": [
      "log_loss\n",
      " 8.1949303197\n",
      "f1_score\n",
      " 0.477345011858\n",
      "accuracy_score\n",
      " 0.612612612613\n",
      "\n",
      "classification_report\n",
      "              precision    recall  f1-score   support\n",
      "\n",
      "          1       0.54      0.47      0.50        57\n",
      "          2       0.54      0.49      0.51        45\n",
      "          3       0.00      0.00      0.00         9\n",
      "          4       0.64      0.77      0.70        69\n",
      "          5       0.36      0.21      0.26        24\n",
      "          6       0.94      0.61      0.74        28\n",
      "          7       0.65      0.81      0.72        95\n",
      "          8       0.00      0.00      0.00         2\n",
      "          9       1.00      0.75      0.86         4\n",
      "\n",
      "avg / total       0.60      0.61      0.60       333\n",
      "\n",
      "\n",
      "confusion_matrix\n",
      " [[27  4  1 19  3  0  3  0  0]\n",
      " [ 2 22  1  1  1  0 18  0  0]\n",
      " [ 0  0  0  1  2  0  6  0  0]\n",
      " [11  0  2 53  1  0  2  0  0]\n",
      " [ 5  1  0  6  5  0  7  0  0]\n",
      " [ 3  2  0  1  2 17  3  0  0]\n",
      " [ 2 12  2  2  0  0 77  0  0]\n",
      " [ 0  0  0  0  0  1  1  0  0]\n",
      " [ 0  0  0  0  0  0  1  0  3]]\n"
     ]
    },
    {
     "name": "stderr",
     "output_type": "stream",
     "text": [
      "/home/bicepjai/Programs/anaconda3/envs/dsotc-c3/lib/python3.6/site-packages/sklearn/metrics/classification.py:1135: UndefinedMetricWarning: F-score is ill-defined and being set to 0.0 in labels with no predicted samples.\n",
      "  'precision', 'predicted', average, warn_for)\n",
      "/home/bicepjai/Programs/anaconda3/envs/dsotc-c3/lib/python3.6/site-packages/sklearn/metrics/classification.py:1135: UndefinedMetricWarning: Precision and F-score are ill-defined and being set to 0.0 in labels with no predicted samples.\n",
      "  'precision', 'predicted', average, warn_for)\n"
     ]
    }
   ],
   "source": [
    "evaluate_model(knn_model)"
   ]
  },
  {
   "cell_type": "code",
   "execution_count": 28,
   "metadata": {
    "ExecuteTime": {
     "end_time": "2017-09-22T03:32:59.586977Z",
     "start_time": "2017-09-22T03:32:59.578850Z"
    }
   },
   "outputs": [],
   "source": [
    "parameters = {'n_neighbors':[3,4,5], \n",
    "              'algorithm':['auto', 'ball_tree', 'kd_tree', 'brute'], \n",
    "              'leaf_size':[30,35,40,45,50]\n",
    "             }\n",
    "\n",
    "knn_rs = RandomizedSearchCV(knn_model, parameters, n_jobs=10, n_iter=30)\n"
   ]
  },
  {
   "cell_type": "code",
   "execution_count": null,
   "metadata": {},
   "outputs": [],
   "source": [
    "evaluate_model(knn_rs)"
   ]
  },
  {
   "cell_type": "code",
   "execution_count": null,
   "metadata": {
    "ExecuteTime": {
     "end_time": "2017-09-21T04:30:08.028141Z",
     "start_time": "2017-09-21T04:30:07.823925Z"
    }
   },
   "outputs": [],
   "source": [
    "pd.DataFrame(knn_rs.cv_results_).transpose()"
   ]
  },
  {
   "cell_type": "markdown",
   "metadata": {},
   "source": [
    "## Passive Aggresive Classifier"
   ]
  },
  {
   "cell_type": "code",
   "execution_count": 26,
   "metadata": {
    "ExecuteTime": {
     "end_time": "2017-09-23T23:04:51.251597Z",
     "start_time": "2017-09-23T23:04:51.246798Z"
    }
   },
   "outputs": [
    {
     "name": "stderr",
     "output_type": "stream",
     "text": [
      "/home/bicepjai/Programs/anaconda3/envs/dsotc-c3/lib/python3.6/site-packages/sklearn/linear_model/stochastic_gradient.py:84: FutureWarning: max_iter and tol parameters have been added in <class 'sklearn.linear_model.passive_aggressive.PassiveAggressiveClassifier'> in 0.19. If both are left unset, they default to max_iter=5 and tol=None. If tol is not None, max_iter defaults to max_iter=1000. From 0.21, default max_iter will be 1000, and default tol will be 1e-3.\n",
      "  \"and default tol will be 1e-3.\" % type(self), FutureWarning)\n"
     ]
    }
   ],
   "source": [
    "from sklearn.linear_model import PassiveAggressiveClassifier\n",
    "pag_model = PassiveAggressiveClassifier()"
   ]
  },
  {
   "cell_type": "code",
   "execution_count": 27,
   "metadata": {
    "ExecuteTime": {
     "end_time": "2017-09-23T23:04:52.360094Z",
     "start_time": "2017-09-23T23:04:51.252897Z"
    }
   },
   "outputs": [
    {
     "name": "stdout",
     "output_type": "stream",
     "text": [
      "f1_score\n",
      " 0.534271866501\n",
      "accuracy_score\n",
      " 0.657657657658\n",
      "\n",
      "classification_report\n",
      "              precision    recall  f1-score   support\n",
      "\n",
      "          1       0.61      0.61      0.61        57\n",
      "          2       0.61      0.60      0.61        45\n",
      "          3       0.12      0.11      0.12         9\n",
      "          4       0.64      0.67      0.65        69\n",
      "          5       0.56      0.42      0.48        24\n",
      "          6       0.78      0.64      0.71        28\n",
      "          7       0.73      0.83      0.78        95\n",
      "          8       0.00      0.00      0.00         2\n",
      "          9       1.00      0.75      0.86         4\n",
      "\n",
      "avg / total       0.65      0.66      0.65       333\n",
      "\n",
      "\n",
      "confusion_matrix\n",
      " [[35  0  3 15  2  1  1  0  0]\n",
      " [ 0 27  1  2  1  1 13  0  0]\n",
      " [ 0  0  1  1  1  0  6  0  0]\n",
      " [15  0  1 46  3  1  3  0  0]\n",
      " [ 4  1  0  5 10  1  3  0  0]\n",
      " [ 3  5  0  1  0 18  1  0  0]\n",
      " [ 0 11  2  2  1  0 79  0  0]\n",
      " [ 0  0  0  0  0  1  1  0  0]\n",
      " [ 0  0  0  0  0  0  1  0  3]]\n"
     ]
    },
    {
     "name": "stderr",
     "output_type": "stream",
     "text": [
      "/home/bicepjai/Programs/anaconda3/envs/dsotc-c3/lib/python3.6/site-packages/sklearn/metrics/classification.py:1135: UndefinedMetricWarning: F-score is ill-defined and being set to 0.0 in labels with no predicted samples.\n",
      "  'precision', 'predicted', average, warn_for)\n",
      "/home/bicepjai/Programs/anaconda3/envs/dsotc-c3/lib/python3.6/site-packages/sklearn/metrics/classification.py:1135: UndefinedMetricWarning: Precision and F-score are ill-defined and being set to 0.0 in labels with no predicted samples.\n",
      "  'precision', 'predicted', average, warn_for)\n"
     ]
    }
   ],
   "source": [
    "evaluate_model(pag_model, predict_proba=False)"
   ]
  },
  {
   "cell_type": "code",
   "execution_count": 31,
   "metadata": {
    "ExecuteTime": {
     "end_time": "2017-09-22T03:33:03.647800Z",
     "start_time": "2017-09-22T03:33:03.639048Z"
    }
   },
   "outputs": [],
   "source": [
    "parameters = {\n",
    "              'C':[1,2,3,4,5,6,7,8,9,10], \n",
    "              'tol' : [1e-5, 1e-4, 1e-3],\n",
    "              'max_iter' : [800, 1000,1200],\n",
    "              'loss':['hinge', 'squared_hinge']}\n",
    "\n",
    "pag_rs = RandomizedSearchCV(pag_model, parameters, n_iter=100, n_jobs=-1)\n"
   ]
  },
  {
   "cell_type": "code",
   "execution_count": null,
   "metadata": {},
   "outputs": [],
   "source": [
    "evaluate_model(pag_rs, predict_proba=False)"
   ]
  },
  {
   "cell_type": "code",
   "execution_count": null,
   "metadata": {
    "ExecuteTime": {
     "end_time": "2017-09-21T05:04:01.564500Z",
     "start_time": "2017-09-21T05:04:01.318127Z"
    }
   },
   "outputs": [],
   "source": [
    "pd.DataFrame(pag_rs.cv_results_).transpose()"
   ]
  },
  {
   "cell_type": "markdown",
   "metadata": {
    "collapsed": true
   },
   "source": [
    "## Quadratic Discriminant Analysis"
   ]
  },
  {
   "cell_type": "code",
   "execution_count": 28,
   "metadata": {
    "ExecuteTime": {
     "end_time": "2017-09-23T23:04:52.374521Z",
     "start_time": "2017-09-23T23:04:52.362597Z"
    }
   },
   "outputs": [],
   "source": [
    "from sklearn.discriminant_analysis import QuadraticDiscriminantAnalysis\n",
    "qda_model = QuadraticDiscriminantAnalysis()"
   ]
  },
  {
   "cell_type": "code",
   "execution_count": 29,
   "metadata": {
    "ExecuteTime": {
     "end_time": "2017-09-23T23:08:43.672927Z",
     "start_time": "2017-09-23T23:04:52.376818Z"
    }
   },
   "outputs": [
    {
     "name": "stderr",
     "output_type": "stream",
     "text": [
      "/home/bicepjai/Programs/anaconda3/envs/dsotc-c3/lib/python3.6/site-packages/sklearn/discriminant_analysis.py:682: UserWarning: Variables are collinear\n",
      "  warnings.warn(\"Variables are collinear\")\n"
     ]
    },
    {
     "name": "stdout",
     "output_type": "stream",
     "text": [
      "log_loss\n",
      " 29.4564939824\n",
      "f1_score\n",
      " 0.19833149647\n",
      "accuracy_score\n",
      " 0.147147147147\n",
      "\n",
      "classification_report\n",
      "              precision    recall  f1-score   support\n",
      "\n",
      "          1       0.45      0.09      0.15        57\n",
      "          2       0.31      0.20      0.24        45\n",
      "          3       0.03      0.67      0.05         9\n",
      "          4       0.00      0.00      0.00        69\n",
      "          5       0.07      0.04      0.05        24\n",
      "          6       0.45      0.36      0.40        28\n",
      "          7       0.73      0.17      0.27        95\n",
      "          8       0.20      0.50      0.29         2\n",
      "          9       0.50      0.25      0.33         4\n",
      "\n",
      "avg / total       0.38      0.15      0.18       333\n",
      "\n",
      "\n",
      "confusion_matrix\n",
      " [[ 5  5 39  0  3  2  0  3  0]\n",
      " [ 0  9 30  0  2  1  3  0  0]\n",
      " [ 0  1  6  0  0  1  1  0  0]\n",
      " [ 2  1 62  0  1  0  1  1  1]\n",
      " [ 4  3 11  0  1  4  1  0  0]\n",
      " [ 0  5 10  0  3 10  0  0  0]\n",
      " [ 0  5 66  0  5  3 16  0  0]\n",
      " [ 0  0  0  0  0  1  0  1  0]\n",
      " [ 0  0  3  0  0  0  0  0  1]]\n"
     ]
    },
    {
     "name": "stderr",
     "output_type": "stream",
     "text": [
      "/home/bicepjai/Programs/anaconda3/envs/dsotc-c3/lib/python3.6/site-packages/sklearn/metrics/classification.py:1135: UndefinedMetricWarning: F-score is ill-defined and being set to 0.0 in labels with no predicted samples.\n",
      "  'precision', 'predicted', average, warn_for)\n",
      "/home/bicepjai/Programs/anaconda3/envs/dsotc-c3/lib/python3.6/site-packages/sklearn/metrics/classification.py:1135: UndefinedMetricWarning: Precision and F-score are ill-defined and being set to 0.0 in labels with no predicted samples.\n",
      "  'precision', 'predicted', average, warn_for)\n"
     ]
    }
   ],
   "source": [
    "evaluate_model(qda_model, sparse=False)"
   ]
  },
  {
   "cell_type": "markdown",
   "metadata": {},
   "source": [
    "## Decision Trees Classifier"
   ]
  },
  {
   "cell_type": "code",
   "execution_count": 30,
   "metadata": {
    "ExecuteTime": {
     "end_time": "2017-09-23T23:08:43.689410Z",
     "start_time": "2017-09-23T23:08:43.674177Z"
    }
   },
   "outputs": [],
   "source": [
    "from sklearn.tree import DecisionTreeClassifier\n",
    "dt_model = DecisionTreeClassifier()"
   ]
  },
  {
   "cell_type": "code",
   "execution_count": 31,
   "metadata": {
    "ExecuteTime": {
     "end_time": "2017-09-23T23:08:59.873036Z",
     "start_time": "2017-09-23T23:08:43.690643Z"
    }
   },
   "outputs": [
    {
     "name": "stdout",
     "output_type": "stream",
     "text": [
      "log_loss\n",
      " 14.2096467451\n",
      "f1_score\n",
      " 0.453594264867\n",
      "accuracy_score\n",
      " 0.588588588589\n",
      "\n",
      "classification_report\n",
      "              precision    recall  f1-score   support\n",
      "\n",
      "          1       0.65      0.60      0.62        57\n",
      "          2       0.41      0.40      0.40        45\n",
      "          3       0.00      0.00      0.00         9\n",
      "          4       0.64      0.70      0.67        69\n",
      "          5       0.39      0.38      0.38        24\n",
      "          6       0.67      0.50      0.57        28\n",
      "          7       0.64      0.74      0.68        95\n",
      "          8       0.00      0.00      0.00         2\n",
      "          9       0.75      0.75      0.75         4\n",
      "\n",
      "avg / total       0.57      0.59      0.58       333\n",
      "\n",
      "\n",
      "confusion_matrix\n",
      " [[34  2  0 15  2  1  3  0  0]\n",
      " [ 4 18  0  1  4  2 15  0  1]\n",
      " [ 0  0  0  1  2  0  6  0  0]\n",
      " [ 9  1  1 48  3  1  5  1  0]\n",
      " [ 1  0  0  6  9  1  7  0  0]\n",
      " [ 1  6  0  2  2 14  3  0  0]\n",
      " [ 2 16  2  2  1  2 70  0  0]\n",
      " [ 0  1  0  0  0  0  1  0  0]\n",
      " [ 1  0  0  0  0  0  0  0  3]]\n"
     ]
    }
   ],
   "source": [
    "evaluate_model(dt_model)"
   ]
  },
  {
   "cell_type": "code",
   "execution_count": 36,
   "metadata": {
    "ExecuteTime": {
     "end_time": "2017-09-22T03:33:09.742249Z",
     "start_time": "2017-09-22T03:33:09.717624Z"
    }
   },
   "outputs": [],
   "source": [
    "parameters = {\n",
    "              'criterion':['gini','entropy'], \n",
    "              'splitter':['best','random'], \n",
    "              'max_depth':[None, 4, 6, 8, 10], \n",
    "              'min_samples_split':[2,4,6,8],\n",
    "              'min_samples_leaf':[1, 3, 5, 8, 10], \n",
    "              'min_weight_fraction_leaf':[0, 0.1, 0.01, 0.5, 0.001], \n",
    "              'max_features':['log2','auto'], \n",
    "              'max_leaf_nodes':[None, 4, 8, 16, 32],\n",
    "              'min_impurity_decrease':[0, 1e-3, 1e-4, 1e-5], \n",
    "              'class_weight':['balanced',None],\n",
    "#               'presort':[True, False] \n",
    "}\n",
    "dt_rs = RandomizedSearchCV(dt_model, parameters, n_iter=100, n_jobs=-1)\n"
   ]
  },
  {
   "cell_type": "code",
   "execution_count": null,
   "metadata": {},
   "outputs": [],
   "source": [
    "evaluate_model(dt_rs)"
   ]
  },
  {
   "cell_type": "code",
   "execution_count": null,
   "metadata": {
    "ExecuteTime": {
     "end_time": "2017-09-21T05:23:29.886630Z",
     "start_time": "2017-09-21T05:23:29.511556Z"
    }
   },
   "outputs": [],
   "source": [
    "pd.DataFrame(dt_rs.cv_results_).transpose()"
   ]
  },
  {
   "cell_type": "markdown",
   "metadata": {},
   "source": [
    "## AdaBoost Classifier"
   ]
  },
  {
   "cell_type": "code",
   "execution_count": 32,
   "metadata": {
    "ExecuteTime": {
     "end_time": "2017-09-23T23:08:59.890314Z",
     "start_time": "2017-09-23T23:08:59.874242Z"
    }
   },
   "outputs": [],
   "source": [
    "from sklearn.ensemble import AdaBoostClassifier\n",
    "adab_model = AdaBoostClassifier()"
   ]
  },
  {
   "cell_type": "code",
   "execution_count": 33,
   "metadata": {
    "ExecuteTime": {
     "end_time": "2017-09-23T23:09:37.831262Z",
     "start_time": "2017-09-23T23:08:59.891581Z"
    }
   },
   "outputs": [
    {
     "name": "stdout",
     "output_type": "stream",
     "text": [
      "log_loss\n",
      " 2.03696523324\n",
      "f1_score\n",
      " 0.171401646976\n",
      "accuracy_score\n",
      " 0.408408408408\n",
      "\n",
      "classification_report\n",
      "              precision    recall  f1-score   support\n",
      "\n",
      "          1       0.00      0.00      0.00        57\n",
      "          2       0.00      0.00      0.00        45\n",
      "          3       0.00      0.00      0.00         9\n",
      "          4       0.31      0.84      0.45        69\n",
      "          5       0.00      0.00      0.00        24\n",
      "          6       0.00      0.00      0.00        28\n",
      "          7       0.54      0.80      0.65        95\n",
      "          8       0.00      0.00      0.00         2\n",
      "          9       0.40      0.50      0.44         4\n",
      "\n",
      "avg / total       0.22      0.41      0.28       333\n",
      "\n",
      "\n",
      "confusion_matrix\n",
      " [[ 0  0  0 52  0  0  5  0  0]\n",
      " [ 0  0  0 20  0  0 25  0  0]\n",
      " [ 0  0  0  3  0  0  6  0  0]\n",
      " [ 0  0  0 58  0  0  8  0  3]\n",
      " [ 0  0  0 16  0  0  8  0  0]\n",
      " [ 0  0  0 19  0  0  9  0  0]\n",
      " [ 0  0  0 19  0  0 76  0  0]\n",
      " [ 0  0  0  0  0  0  2  0  0]\n",
      " [ 0  0  0  1  0  0  1  0  2]]\n"
     ]
    },
    {
     "name": "stderr",
     "output_type": "stream",
     "text": [
      "/home/bicepjai/Programs/anaconda3/envs/dsotc-c3/lib/python3.6/site-packages/sklearn/metrics/classification.py:1135: UndefinedMetricWarning: F-score is ill-defined and being set to 0.0 in labels with no predicted samples.\n",
      "  'precision', 'predicted', average, warn_for)\n",
      "/home/bicepjai/Programs/anaconda3/envs/dsotc-c3/lib/python3.6/site-packages/sklearn/metrics/classification.py:1135: UndefinedMetricWarning: Precision and F-score are ill-defined and being set to 0.0 in labels with no predicted samples.\n",
      "  'precision', 'predicted', average, warn_for)\n"
     ]
    }
   ],
   "source": [
    "evaluate_model(adab_model)"
   ]
  },
  {
   "cell_type": "code",
   "execution_count": 39,
   "metadata": {
    "ExecuteTime": {
     "end_time": "2017-09-22T03:33:14.039957Z",
     "start_time": "2017-09-22T03:33:14.031570Z"
    }
   },
   "outputs": [],
   "source": [
    "parameters = {\n",
    "              # adaboost\n",
    "              'n_estimators' :[50, 100, 150, 200, 500],\n",
    "              'learning_rate':[1e-4, 1e-3, 1e-2, 1e-1],\n",
    "              'algorithm' : ['SAMME', 'SAMME.R'],\n",
    "}\n",
    "adab_rs = RandomizedSearchCV(adab_model, parameters, n_iter=25, n_jobs=-1)\n"
   ]
  },
  {
   "cell_type": "code",
   "execution_count": null,
   "metadata": {},
   "outputs": [],
   "source": [
    "evaluate_model(adab_rs)"
   ]
  },
  {
   "cell_type": "code",
   "execution_count": null,
   "metadata": {
    "ExecuteTime": {
     "end_time": "2017-09-21T05:30:13.757848Z",
     "start_time": "2017-09-21T05:30:13.595250Z"
    }
   },
   "outputs": [],
   "source": [
    "pd.DataFrame(adab_rs.cv_results_).transpose()"
   ]
  },
  {
   "cell_type": "markdown",
   "metadata": {
    "ExecuteTime": {
     "end_time": "2017-08-18T07:57:29.418301Z",
     "start_time": "2017-08-18T07:57:29.415790Z"
    }
   },
   "source": [
    "## Random Forest Classifier"
   ]
  },
  {
   "cell_type": "code",
   "execution_count": 34,
   "metadata": {
    "ExecuteTime": {
     "end_time": "2017-09-23T23:09:37.835427Z",
     "start_time": "2017-09-23T23:09:37.832716Z"
    }
   },
   "outputs": [],
   "source": [
    "from sklearn.ensemble import RandomForestClassifier\n",
    "rf_model = RandomForestClassifier()"
   ]
  },
  {
   "cell_type": "code",
   "execution_count": 35,
   "metadata": {
    "ExecuteTime": {
     "end_time": "2017-09-23T23:09:46.463201Z",
     "start_time": "2017-09-23T23:09:37.836918Z"
    }
   },
   "outputs": [
    {
     "name": "stdout",
     "output_type": "stream",
     "text": [
      "log_loss\n",
      " 3.54088132013\n",
      "f1_score\n",
      " 0.496682792489\n",
      "accuracy_score\n",
      " 0.633633633634\n",
      "\n",
      "classification_report\n",
      "              precision    recall  f1-score   support\n",
      "\n",
      "          1       0.64      0.63      0.64        57\n",
      "          2       0.64      0.51      0.57        45\n",
      "          3       0.00      0.00      0.00         9\n",
      "          4       0.68      0.71      0.70        69\n",
      "          5       0.41      0.29      0.34        24\n",
      "          6       0.84      0.57      0.68        28\n",
      "          7       0.60      0.81      0.69        95\n",
      "          8       0.00      0.00      0.00         2\n",
      "          9       1.00      0.75      0.86         4\n",
      "\n",
      "avg / total       0.62      0.63      0.62       333\n",
      "\n",
      "\n",
      "confusion_matrix\n",
      " [[36  4  0 10  2  0  5  0  0]\n",
      " [ 3 23  0  1  2  0 16  0  0]\n",
      " [ 0  0  0  1  1  1  6  0  0]\n",
      " [ 8  0  0 49  2  1  9  0  0]\n",
      " [ 4  0  0  4  7  0  9  0  0]\n",
      " [ 3  2  0  3  1 16  3  0  0]\n",
      " [ 2  7  2  4  2  1 77  0  0]\n",
      " [ 0  0  0  0  0  0  2  0  0]\n",
      " [ 0  0  0  0  0  0  1  0  3]]\n"
     ]
    },
    {
     "name": "stderr",
     "output_type": "stream",
     "text": [
      "/home/bicepjai/Programs/anaconda3/envs/dsotc-c3/lib/python3.6/site-packages/sklearn/metrics/classification.py:1135: UndefinedMetricWarning: F-score is ill-defined and being set to 0.0 in labels with no predicted samples.\n",
      "  'precision', 'predicted', average, warn_for)\n",
      "/home/bicepjai/Programs/anaconda3/envs/dsotc-c3/lib/python3.6/site-packages/sklearn/metrics/classification.py:1135: UndefinedMetricWarning: Precision and F-score are ill-defined and being set to 0.0 in labels with no predicted samples.\n",
      "  'precision', 'predicted', average, warn_for)\n"
     ]
    }
   ],
   "source": [
    "evaluate_model(rf_model)"
   ]
  },
  {
   "cell_type": "code",
   "execution_count": 42,
   "metadata": {
    "ExecuteTime": {
     "end_time": "2017-09-22T03:33:17.408865Z",
     "start_time": "2017-09-22T03:33:17.389629Z"
    }
   },
   "outputs": [],
   "source": [
    "parameters = {\n",
    "              'n_estimators': [10, 50, 100, 200, 250, 500],\n",
    "              'criterion':['gini','entropy'], \n",
    "              'max_depth':[None, 4, 6, 8, 10], \n",
    "              'min_samples_split':[2,4,6,8],\n",
    "              'min_samples_leaf':[1, 3, 5, 8, 10], \n",
    "              'min_weight_fraction_leaf':[0, 0.1, 0.01, 0.5, 0.001], \n",
    "              'max_features':['log2','auto'], \n",
    "              'max_leaf_nodes':[None, 4, 8, 16, 32],\n",
    "              'min_impurity_decrease':[0, 1e-3, 1e-4, 1e-5], \n",
    "              'class_weight':['balanced',None],\n",
    "#               'bootstrap':[True, False],\n",
    "#               'oob_score':[True, False]\n",
    "#               'presort':[True, False] \n",
    "}\n",
    "rf_rs = RandomizedSearchCV(rf_model, parameters, n_iter=100, n_jobs=-1)\n"
   ]
  },
  {
   "cell_type": "code",
   "execution_count": null,
   "metadata": {},
   "outputs": [],
   "source": [
    "evaluate_model(rf_rs)"
   ]
  },
  {
   "cell_type": "code",
   "execution_count": null,
   "metadata": {
    "ExecuteTime": {
     "end_time": "2017-09-21T05:34:35.626159Z",
     "start_time": "2017-09-21T05:34:35.258859Z"
    }
   },
   "outputs": [],
   "source": [
    "pd.DataFrame(rf_rs.cv_results_).transpose()"
   ]
  },
  {
   "cell_type": "markdown",
   "metadata": {
    "ExecuteTime": {
     "end_time": "2017-08-18T07:59:00.105193Z",
     "start_time": "2017-08-18T07:59:00.100520Z"
    }
   },
   "source": [
    "## Extreme Randomization Trees"
   ]
  },
  {
   "cell_type": "code",
   "execution_count": 36,
   "metadata": {
    "ExecuteTime": {
     "end_time": "2017-09-23T23:09:46.466962Z",
     "start_time": "2017-09-23T23:09:46.464573Z"
    }
   },
   "outputs": [],
   "source": [
    "from sklearn.ensemble import ExtraTreesClassifier\n",
    "xtr_model = ExtraTreesClassifier()"
   ]
  },
  {
   "cell_type": "code",
   "execution_count": 37,
   "metadata": {
    "ExecuteTime": {
     "end_time": "2017-09-23T23:10:01.392408Z",
     "start_time": "2017-09-23T23:09:46.468173Z"
    }
   },
   "outputs": [
    {
     "name": "stdout",
     "output_type": "stream",
     "text": [
      "log_loss\n",
      " 4.28472314063\n",
      "f1_score\n",
      " 0.467986422835\n",
      "accuracy_score\n",
      " 0.597597597598\n",
      "\n",
      "classification_report\n",
      "              precision    recall  f1-score   support\n",
      "\n",
      "          1       0.55      0.56      0.56        57\n",
      "          2       0.56      0.44      0.49        45\n",
      "          3       0.17      0.11      0.13         9\n",
      "          4       0.68      0.64      0.66        69\n",
      "          5       0.21      0.12      0.16        24\n",
      "          6       0.68      0.61      0.64        28\n",
      "          7       0.63      0.83      0.71        95\n",
      "          8       0.00      0.00      0.00         2\n",
      "          9       1.00      0.75      0.86         4\n",
      "\n",
      "avg / total       0.58      0.60      0.58       333\n",
      "\n",
      "\n",
      "confusion_matrix\n",
      " [[32  4  0 12  2  2  5  0  0]\n",
      " [ 0 20  0  2  2  0 21  0  0]\n",
      " [ 0  0  1  1  1  1  5  0  0]\n",
      " [12  2  0 44  2  0  9  0  0]\n",
      " [ 6  1  1  4  3  5  4  0  0]\n",
      " [ 4  2  0  0  3 17  2  0  0]\n",
      " [ 4  5  4  2  1  0 79  0  0]\n",
      " [ 0  2  0  0  0  0  0  0  0]\n",
      " [ 0  0  0  0  0  0  1  0  3]]\n"
     ]
    },
    {
     "name": "stderr",
     "output_type": "stream",
     "text": [
      "/home/bicepjai/Programs/anaconda3/envs/dsotc-c3/lib/python3.6/site-packages/sklearn/metrics/classification.py:1135: UndefinedMetricWarning: F-score is ill-defined and being set to 0.0 in labels with no predicted samples.\n",
      "  'precision', 'predicted', average, warn_for)\n",
      "/home/bicepjai/Programs/anaconda3/envs/dsotc-c3/lib/python3.6/site-packages/sklearn/metrics/classification.py:1135: UndefinedMetricWarning: Precision and F-score are ill-defined and being set to 0.0 in labels with no predicted samples.\n",
      "  'precision', 'predicted', average, warn_for)\n"
     ]
    }
   ],
   "source": [
    "evaluate_model(xtr_model)"
   ]
  },
  {
   "cell_type": "code",
   "execution_count": 45,
   "metadata": {
    "ExecuteTime": {
     "end_time": "2017-09-22T03:33:21.430216Z",
     "start_time": "2017-09-22T03:33:21.412076Z"
    }
   },
   "outputs": [],
   "source": [
    "parameters = {\n",
    "              'n_estimators': [10, 50, 100, 200, 250, 500],\n",
    "              'criterion':['gini','entropy'], \n",
    "              'max_depth':[None, 4, 6, 8, 10], \n",
    "              'min_samples_split':[2,4,6,8],\n",
    "              'min_samples_leaf':[1, 3, 5, 8, 10], \n",
    "              'min_weight_fraction_leaf':[0, 0.1, 0.01, 0.5, 0.001], \n",
    "              'max_features':['log2','auto'], \n",
    "              'max_leaf_nodes':[None, 4, 8, 16, 32],\n",
    "              'min_impurity_decrease':[0, 1e-3, 1e-4, 1e-5], \n",
    "              'class_weight':['balanced',None],\n",
    "#               'bootstrap':[True, False],\n",
    "#               'oob_score':[True, False]\n",
    "#               'presort':[True, False] \n",
    "}\n",
    "xtr_rs = RandomizedSearchCV(xtr_model, parameters, n_iter=100, n_jobs=-1)\n"
   ]
  },
  {
   "cell_type": "code",
   "execution_count": null,
   "metadata": {},
   "outputs": [],
   "source": [
    "evaluate_model(xtr_rs)"
   ]
  },
  {
   "cell_type": "code",
   "execution_count": null,
   "metadata": {
    "ExecuteTime": {
     "end_time": "2017-09-21T05:57:50.059621Z",
     "start_time": "2017-09-21T05:57:49.567996Z"
    }
   },
   "outputs": [],
   "source": [
    "pd.DataFrame(xtr_rs.cv_results_).transpose()"
   ]
  },
  {
   "cell_type": "markdown",
   "metadata": {},
   "source": [
    "## Saving models run"
   ]
  },
  {
   "cell_type": "markdown",
   "metadata": {},
   "source": [
    "### stage1"
   ]
  },
  {
   "cell_type": "code",
   "execution_count": 38,
   "metadata": {
    "ExecuteTime": {
     "end_time": "2017-09-23T23:10:24.673205Z",
     "start_time": "2017-09-23T23:10:01.394123Z"
    }
   },
   "outputs": [],
   "source": [
    "pickle.dump(nb_model, open('stage1/nb_model', 'wb'))\n",
    "pickle.dump(svc_model, open('stage1/svc_model', 'wb'))\n",
    "pickle.dump(smreg_model, open('stage1/smreg_model', 'wb'))\n",
    "pickle.dump(knn_model, open('stage1/knn_model', 'wb'))\n",
    "pickle.dump(pag_model, open('stage1/pag_model', 'wb'))\n",
    "pickle.dump(qda_model, open('stage1/qda_model', 'wb'))\n",
    "pickle.dump(dt_model, open('stage1/qda_model', 'wb'))\n",
    "pickle.dump(adab_model, open('stage1/adab_model', 'wb'))\n",
    "pickle.dump(rf_model, open('stage1/rf_model', 'wb'))\n",
    "pickle.dump(xtr_model, open('stage1/xtr_model', 'wb'))"
   ]
  },
  {
   "cell_type": "code",
   "execution_count": 39,
   "metadata": {
    "ExecuteTime": {
     "end_time": "2017-09-23T23:10:24.676742Z",
     "start_time": "2017-09-23T23:10:24.674767Z"
    }
   },
   "outputs": [],
   "source": [
    "from sklearn.ensemble import VotingClassifier"
   ]
  },
  {
   "cell_type": "markdown",
   "metadata": {},
   "source": [
    "## Load classifiers"
   ]
  },
  {
   "cell_type": "code",
   "execution_count": 40,
   "metadata": {
    "ExecuteTime": {
     "end_time": "2017-09-23T23:10:24.887575Z",
     "start_time": "2017-09-23T23:10:24.677843Z"
    }
   },
   "outputs": [],
   "source": [
    "nb_model    = pickle.load(open('stage1/nb_model', 'rb'))\n",
    "svc_model   = pickle.load(open('stage1/svc_model', 'rb'))\n",
    "smreg_model = pickle.load(open('stage1/smreg_model', 'rb'))\n",
    "knn_model   = pickle.load(open('stage1/knn_model', 'rb'))\n",
    "pag_model   = pickle.load(open('stage1/pag_model', 'rb'))\n",
    "qda_model   = pickle.load(open('stage1/qda_model', 'rb'))\n",
    "dt_model    = pickle.load(open('stage1/qda_model', 'rb'))\n",
    "adab_model  = pickle.load(open('stage1/adab_model', 'rb'))\n",
    "rf_model    = pickle.load(open('stage1/rf_model', 'rb'))\n",
    "xtr_model   = pickle.load(open('stage1/xtr_model', 'rb'))"
   ]
  },
  {
   "cell_type": "markdown",
   "metadata": {},
   "source": [
    "## Average on probabilities"
   ]
  },
  {
   "cell_type": "code",
   "execution_count": 41,
   "metadata": {
    "ExecuteTime": {
     "end_time": "2017-09-23T23:10:24.894007Z",
     "start_time": "2017-09-23T23:10:24.889249Z"
    }
   },
   "outputs": [],
   "source": [
    "estimators_returning_probabilities = [\n",
    "                    (\"NB\", nb_model),           \n",
    "                    (\"SVM\", svc_model),         \n",
    "                    (\"Softmax\", smreg_model),  \n",
    "                    (\"KNN\", knn_model),         \n",
    "#                     (\"PasAgg\", pag_model),      \n",
    "#                     (\"QDA\", qda_model),         \n",
    "                    (\"DecisionTree\", dt_model), \n",
    "                    (\"ADABoost\", adab_model),   \n",
    "                    (\"RandomForest\", rf_model),\n",
    "                    (\"ExtremeRand\", xtr_model)\n",
    "                 ]"
   ]
  },
  {
   "cell_type": "code",
   "execution_count": 42,
   "metadata": {
    "ExecuteTime": {
     "end_time": "2017-09-23T23:10:24.900894Z",
     "start_time": "2017-09-23T23:10:24.895353Z"
    }
   },
   "outputs": [],
   "source": [
    "def average_predicted_probabilities(local_data):\n",
    "    nof_data = local_data.shape[0]\n",
    "    mean_probs = np.zeros((nof_data, 9))\n",
    "    for name, estimator in estimators_returning_probabilities:\n",
    "        mean_probs += estimator.predict_proba(local_data)\n",
    "    return mean_probs/nof_data"
   ]
  },
  {
   "cell_type": "code",
   "execution_count": 43,
   "metadata": {
    "ExecuteTime": {
     "end_time": "2017-09-23T23:10:36.944327Z",
     "start_time": "2017-09-23T23:10:24.902972Z"
    }
   },
   "outputs": [
    {
     "name": "stdout",
     "output_type": "stream",
     "text": [
      "log_loss\n",
      " 1.01227591243\n"
     ]
    }
   ],
   "source": [
    "y_pred = average_predicted_probabilities(x_test_tf)\n",
    "print(\"log_loss\\n\", log_loss(y_test, y_pred, labels=range(1,10)))"
   ]
  },
  {
   "cell_type": "markdown",
   "metadata": {},
   "source": [
    "# Submission"
   ]
  },
  {
   "cell_type": "markdown",
   "metadata": {},
   "source": [
    "## Test Predictions"
   ]
  },
  {
   "cell_type": "markdown",
   "metadata": {},
   "source": [
    "### Data Prep"
   ]
  },
  {
   "cell_type": "code",
   "execution_count": 44,
   "metadata": {
    "ExecuteTime": {
     "end_time": "2017-09-23T23:23:12.787850Z",
     "start_time": "2017-09-23T23:23:09.319042Z"
    }
   },
   "outputs": [
    {
     "data": {
      "text/html": [
       "<div>\n",
       "<style>\n",
       "    .dataframe thead tr:only-child th {\n",
       "        text-align: right;\n",
       "    }\n",
       "\n",
       "    .dataframe thead th {\n",
       "        text-align: left;\n",
       "    }\n",
       "\n",
       "    .dataframe tbody tr th {\n",
       "        vertical-align: top;\n",
       "    }\n",
       "</style>\n",
       "<table border=\"1\" class=\"dataframe\">\n",
       "  <thead>\n",
       "    <tr style=\"text-align: right;\">\n",
       "      <th></th>\n",
       "      <th>Text</th>\n",
       "    </tr>\n",
       "  </thead>\n",
       "  <tbody>\n",
       "    <tr>\n",
       "      <th>0</th>\n",
       "      <td>[acsl4, r570s, 2, this, mutation, resulted, in...</td>\n",
       "    </tr>\n",
       "    <tr>\n",
       "      <th>1</th>\n",
       "      <td>[naglu, p521l, abstract, the, large, tumor, su...</td>\n",
       "    </tr>\n",
       "    <tr>\n",
       "      <th>2</th>\n",
       "      <td>[pah, l333f, vascular, endothelial, growth, fa...</td>\n",
       "    </tr>\n",
       "    <tr>\n",
       "      <th>3</th>\n",
       "      <td>[ing1, a148d, inflammatory, myofibroblastic, t...</td>\n",
       "    </tr>\n",
       "    <tr>\n",
       "      <th>4</th>\n",
       "      <td>[tmem216, g77a, abstract, retinoblastoma, is, ...</td>\n",
       "    </tr>\n",
       "  </tbody>\n",
       "</table>\n",
       "</div>"
      ],
      "text/plain": [
       "                                                Text\n",
       "0  [acsl4, r570s, 2, this, mutation, resulted, in...\n",
       "1  [naglu, p521l, abstract, the, large, tumor, su...\n",
       "2  [pah, l333f, vascular, endothelial, growth, fa...\n",
       "3  [ing1, a148d, inflammatory, myofibroblastic, t...\n",
       "4  [tmem216, g77a, abstract, retinoblastoma, is, ..."
      ]
     },
     "metadata": {},
     "output_type": "display_data"
    }
   ],
   "source": [
    "test_df.Sentences = test_df.Sentences.apply(lambda ll: list(itertools.chain.from_iterable(ll)))\n",
    "all_text_test_df = pd.DataFrame()\n",
    "all_text_test_df[\"Text\"] = test_df.Gene + test_df.Variation + test_df.Sentences\n",
    "display(all_text_test_df.head())"
   ]
  },
  {
   "cell_type": "code",
   "execution_count": 45,
   "metadata": {
    "ExecuteTime": {
     "end_time": "2017-09-23T23:23:55.169040Z",
     "start_time": "2017-09-23T23:23:20.612773Z"
    }
   },
   "outputs": [
    {
     "name": "stdout",
     "output_type": "stream",
     "text": [
      "(5668, 352220)\n",
      "(5668, 352220)\n"
     ]
    }
   ],
   "source": [
    "test_data = all_text_test_df.Text.str.join(\" \")\n",
    "test_data_counts = cvec.fit_transform(test_data)\n",
    "print(test_data_counts.shape)\n",
    "test_data_tf = tfidf.fit_transform(test_data_counts)\n",
    "print(test_data_tf.shape)"
   ]
  },
  {
   "cell_type": "markdown",
   "metadata": {},
   "source": [
    "### Run Model"
   ]
  },
  {
   "cell_type": "markdown",
   "metadata": {},
   "source": [
    "#### average probs"
   ]
  },
  {
   "cell_type": "code",
   "execution_count": 46,
   "metadata": {
    "ExecuteTime": {
     "end_time": "2017-09-23T23:27:28.011869Z",
     "start_time": "2017-09-23T23:23:55.170739Z"
    }
   },
   "outputs": [],
   "source": [
    "y_pred = average_predicted_probabilities(test_data_tf)"
   ]
  },
  {
   "cell_type": "code",
   "execution_count": null,
   "metadata": {},
   "outputs": [],
   "source": []
  },
  {
   "cell_type": "markdown",
   "metadata": {},
   "source": [
    "## formating final output"
   ]
  },
  {
   "cell_type": "code",
   "execution_count": 47,
   "metadata": {
    "ExecuteTime": {
     "end_time": "2017-09-23T23:27:28.102620Z",
     "start_time": "2017-09-23T23:27:28.013511Z"
    }
   },
   "outputs": [],
   "source": [
    "\"\"\" Submission \"\"\"\n",
    "submission = pd.DataFrame(y_pred)\n",
    "submission['id'] = test_df.ID\n",
    "submission.columns = ['class1', 'class2', 'class3', 'class4', 'class5', 'class6', 'class7', 'class8', 'class9', 'id']\n",
    "submission.to_csv('sklearn_classifiers_submission_{}.csv'.format(dt.datetime.now().strftime('%Y%m%d_%H%M%S')), index=False)"
   ]
  },
  {
   "cell_type": "markdown",
   "metadata": {},
   "source": [
    "## submitted results"
   ]
  },
  {
   "cell_type": "markdown",
   "metadata": {},
   "source": [
    "with data from python2\n",
    "\n",
    "one hot representations: from vcs_all_models\n",
    "\n",
    "sklearn_classifiers_submission_20170922_114137.csv : 11.77458\n",
    "\n",
    "soft probabilities: from average_predicted_probabilities\n",
    "\n",
    "sklearn_classifiers_submission_20170922_155723: 0.97035"
   ]
  },
  {
   "cell_type": "markdown",
   "metadata": {},
   "source": [
    "with python3 data cleanup:\n",
    "\n",
    "sklearn_classifiers_submission_20170923_162728: 0.97116"
   ]
  },
  {
   "cell_type": "code",
   "execution_count": null,
   "metadata": {},
   "outputs": [],
   "source": []
  }
 ],
 "metadata": {
  "anaconda-cloud": {},
  "kernelspec": {
   "display_name": "Python [conda env:dsotc-c3]",
   "language": "python",
   "name": "conda-env-dsotc-c3-py"
  },
  "language_info": {
   "codemirror_mode": {
    "name": "ipython",
    "version": 3
   },
   "file_extension": ".py",
   "mimetype": "text/x-python",
   "name": "python",
   "nbconvert_exporter": "python",
   "pygments_lexer": "ipython3",
   "version": "3.6.2"
  },
  "toc": {
   "nav_menu": {},
   "number_sections": true,
   "sideBar": true,
   "skip_h1_title": true,
   "toc_cell": false,
   "toc_position": {
    "height": "814px",
    "left": "0px",
    "right": "20px",
    "top": "52px",
    "width": "330px"
   },
   "toc_section_display": "block",
   "toc_window_display": true
  }
 },
 "nbformat": 4,
 "nbformat_minor": 2
}
